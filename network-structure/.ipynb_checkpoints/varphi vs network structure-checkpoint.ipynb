{
 "cells": [
  {
   "cell_type": "code",
   "execution_count": null,
   "metadata": {},
   "outputs": [],
   "source": [
    "import numpy as np\n",
    "import pyphi\n",
    "import random\n",
    "import makegridslibrary as me\n",
    "import matplotlib\n",
    "import matplotlib.pyplot as plt"
   ]
  },
  {
   "cell_type": "code",
   "execution_count": null,
   "metadata": {},
   "outputs": [],
   "source": [
    "def make_cmgrid_withbackground(N,d):\n",
    "    C=np.zeros((2*N,2*N),int)\n",
    "    C[0:N,0:N]=me.make_cmgrid(N,d)\n",
    "    #add the ``structured'' background conditions\n",
    "    for i in range(N):\n",
    "        C[N+i,i]=1\n",
    "        #C[N+i,(i+1)%N]=1\n",
    "\n",
    "    return C\n",
    "\n",
    "def make_random_withbackground(N,d):\n",
    "    R=np.zeros((2*N,2*N),int)\n",
    "    R[0:N,0:N]=me.make_random(N,d)\n",
    "    #add the ``structured'' background conditions\n",
    "    for i in range(N):\n",
    "        R[N+i,i]=1\n",
    "        #R[N+i,(i+1)%N]=1\n",
    "\n",
    "    return R\n",
    "\n",
    "def make_tpm_withbackground(N,cm,threshh): #pick thresh==0 so it calculate the thresh \n",
    "    #assumes that the background nodes are at the end, so cm dim is 2*N,2*N\n",
    "    #state by node\n",
    "    if threshh>0:\n",
    "        thresh=threshh\n",
    "    else:\n",
    "        thresh=int((sum(cm)+1)/2)\n",
    "    N2=2*N\n",
    "    M = 2**N2\n",
    "    tpm = np.zeros([M, N2])\n",
    "    for i in range(M):\n",
    "        state = pyphi.convert.loli_index2state(i, N2)\n",
    "        for node in range(N):\n",
    "            tpm[i, node] = np.dot(cm.transpose()[node], state) >= thresh\n",
    "            \n",
    "            \n",
    "        # TODO LEO Not sur I understand why...\n",
    "        for node2 in range(N):\n",
    "            tpm[i,node2+N]=0.5\n",
    "            \n",
    "    return tpm\n"
   ]
  },
  {
   "cell_type": "code",
   "execution_count": null,
   "metadata": {},
   "outputs": [],
   "source": [
    "cm = C_BGR_N9\n",
    "N = 9\n",
    "iterations = 10\n",
    "state = np.array([1,0,1,0,0,0,0,1,1,\n",
    "                  1,1,1,0,0,0,1,1,1])\n",
    "threshh = 3"
   ]
  },
  {
   "cell_type": "code",
   "execution_count": null,
   "metadata": {},
   "outputs": [],
   "source": [
    "lcm=len(cm)\n",
    "scm=sum(cm)\n",
    "\n",
    "scm"
   ]
  },
  {
   "cell_type": "code",
   "execution_count": null,
   "metadata": {},
   "outputs": [],
   "source": [
    "# cm whole conn matrix including backgroun, N is the nr of nodes in the ``main complex'', state as initial cond\n",
    "\n",
    "def running_behavior(cm,N,iterations,state,threshh,plot=True): #pick threshh ==0 to calculate it\n",
    "\n",
    "    lcm=len(cm)\n",
    "    scm=sum(cm)\n",
    "\n",
    "    if threshh > 0:\n",
    "        thresh = threshh\n",
    "    else:\n",
    "        thresh = (scm + 1) / 2\n",
    "\n",
    "    fixbackground=state[N:lcm]\n",
    "    statenew=np.zeros((lcm,iterations),int)\n",
    "    statenew[:,0]=state\n",
    "    for i in range(iterations-1):\n",
    "            statenew[:,i+1] = np.dot(cm.transpose(), statenew[:,i]) >= thresh\n",
    "            statenew[N:lcm,i+1]=fixbackground\n",
    "\n",
    "            #print('this is the new state\\n', statenew[:,i+1])\n",
    "\n",
    "    statenew1=statenew.transpose()        \n",
    "    statenew2=statenew1[::-1]    \n",
    "\n",
    "    if plot:\n",
    "        fig = plt.figure()\n",
    "\n",
    "        ax = fig.add_subplot(1,2,1)\n",
    "        ax.set_aspect('equal')\n",
    "        plt.imshow(statenew2, interpolation='nearest', cmap=plt.cm.PuBu)\n",
    "        plt.colorbar()\n",
    "\n",
    "        ax = fig.add_subplot(1,2,2)\n",
    "        ax.set_aspect('equal')\n",
    "        plt.imshow(statenew2[:,0:N] - statenew2[:,N:(2*N)], interpolation='nearest', cmap=plt.cm.bwr)\n",
    "        plt.colorbar()\n",
    "\n",
    "        plt.show()\n",
    "        \n",
    "    distance = np.sum(np.abs(statenew[0:N,i+1]-fixbackground))\n",
    "    print('Distance: %d' % distance)\n",
    "    return distance\n",
    "\n",
    "    # return statenew\n",
    "\n"
   ]
  },
  {
   "cell_type": "code",
   "execution_count": null,
   "metadata": {},
   "outputs": [],
   "source": [
    "def difference_of_matching(cm,N,iterations,state,threshh): #threshh==0 calculates the thresh as maj \n",
    "    lcm=len(cm)\n",
    "    scm=sum(cm)\n",
    "    if threshh>0:\n",
    "        thresh=threshh\n",
    "    else:\n",
    "        thresh=(scm+1)/2\n",
    "        \n",
    "    fixbackground=state[N:lcm]\n",
    "    statenew=np.zeros((lcm,iterations),int)\n",
    "    statenew[:,0]=state\n",
    "    dist=np.zeros(iterations,int)\n",
    "    for i in range(iterations-1):\n",
    "            statenew[:,i+1] = np.dot(cm.transpose(), statenew[:,i]) >= thresh\n",
    "            statenew[N:lcm,i+1]=fixbackground\n",
    "            distance=statenew[0:N,i+1]-fixbackground\n",
    "            dist[i+1]=sum(abs(distance))\n",
    "            #print('this is the new state\\n', statenew[:,i+1])\n",
    "            \n",
    "    finaldist=dist[iterations-1]\n",
    "    \n",
    "    return finaldist"
   ]
  },
  {
   "cell_type": "code",
   "execution_count": null,
   "metadata": {},
   "outputs": [],
   "source": [
    "def pick_random_state(N,nrfiring,nrfiringbackground):\n",
    "    vv=random.sample(range(N),nrfiring)\n",
    "    bgrvv=np.asarray(random.sample(range(N),nrfiringbackground))\n",
    "    bgrvv=bgrvv+N\n",
    "    bgrvv=bgrvv\n",
    "    vvar=np.zeros(2*N,int)\n",
    "    vvar[vv]=1\n",
    "    vvar[bgrvv]=1\n",
    "    background=vvar[N:]\n",
    "    \n",
    "    return vvar,background\n"
   ]
  },
  {
   "cell_type": "code",
   "execution_count": null,
   "metadata": {},
   "outputs": [],
   "source": [
    "C_BGR_N9=make_cmgrid_withbackground(9,5)\n",
    "C_BGR_N9"
   ]
  },
  {
   "cell_type": "code",
   "execution_count": null,
   "metadata": {},
   "outputs": [],
   "source": [
    "T_BGR_N9=make_tpm_withbackground(9,C_BGR_N9,3)"
   ]
  },
  {
   "cell_type": "code",
   "execution_count": null,
   "metadata": {},
   "outputs": [],
   "source": [
    "running_behavior(C_BGR_N9,9,10,np.array([1,1,1,0,0,0,0,1,1,1,1,1,0,0,0,1,1,1]),3)"
   ]
  },
  {
   "cell_type": "code",
   "execution_count": null,
   "metadata": {},
   "outputs": [],
   "source": [
    "# Average distance for random initial states\n",
    "N = 9\n",
    "iterations = 10\n",
    "\n",
    "# intial state that lead to matching (very similar) : 1,1,1,0,0,0,0,1,1\n",
    "state = np.array([1,1,1,0,0,0,0,1,1,\n",
    "                  1,1,1,0,0,0,1,1,1])\n",
    "thresh = 3\n",
    "\n",
    "nsim = 10\n",
    "distances = np.zeros(nsim)\n",
    "for isim in range(nsim):\n",
    "    # this_state = np.random.randint(0, 2, N)\n",
    "    this_state = [1,1,1,0,0,0,0,1,1]\n",
    "    np.random.shuffle(this_state)\n",
    "    state[0:N] = this_state\n",
    "    distances[isim] = running_behavior(C_BGR_N9,N,iterations,state,thresh, plot=True)\n",
    "    \n",
    "    "
   ]
  },
  {
   "cell_type": "code",
   "execution_count": null,
   "metadata": {},
   "outputs": [],
   "source": [
    "#test, for convervence using actual thresh\n",
    "M=7\n",
    "l=0.5\n",
    "N=9\n",
    "cm=C_BGR_N9\n",
    "it=10\n",
    "for i in range(M):\n",
    "    nrfiring=int(l*N)\n",
    "    nrfiringbackground=nrfiring\n",
    "    [state,background]=pick_random_state(N,nrfiring,nrfiringbackground)\n",
    "    running_behavior(cm,N,it,state,0)"
   ]
  },
  {
   "cell_type": "code",
   "execution_count": null,
   "metadata": {},
   "outputs": [],
   "source": [
    "state=np.array([1,1,1,0,0,0,0,1,1,1,1,0,0,1,1,0,0,0])\n",
    "difference_of_matching(C_BGR_N9,9,10,state,0)"
   ]
  },
  {
   "cell_type": "code",
   "execution_count": null,
   "metadata": {},
   "outputs": [],
   "source": [
    "#Larissa mentioned, we should keep the thresh as if there would be no background conditions (added that in running_behavior)"
   ]
  },
  {
   "cell_type": "code",
   "execution_count": null,
   "metadata": {},
   "outputs": [],
   "source": [
    "#compare to actual thresh\n",
    "M=7\n",
    "l=0.5\n",
    "N=9\n",
    "cm=R\n",
    "it=10\n",
    "print('this is the random matrix I look at\\n', cm)\n",
    "for i in range(M):\n",
    "    nrfiring=int(l*N)\n",
    "    nrfiringbackground=nrfiring\n",
    "    [state,background]=pick_random_state(N,nrfiring,nrfiringbackground)\n",
    "    running_behavior(cm,N,it,state,0)\n",
    "    d=difference_of_matching(cm,N,it,state,0)\n",
    "    print(d)"
   ]
  },
  {
   "cell_type": "markdown",
   "metadata": {},
   "source": [
    "What we see is: \n",
    "- both networks converge to a particular state with activity"
   ]
  },
  {
   "cell_type": "code",
   "execution_count": null,
   "metadata": {},
   "outputs": [],
   "source": []
  }
 ],
 "metadata": {
  "anaconda-cloud": {},
  "kernelspec": {
   "display_name": "Python [nsdm-pyphi]",
   "language": "python",
   "name": "Python [nsdm-pyphi]"
  },
  "language_info": {
   "codemirror_mode": {
    "name": "ipython",
    "version": 3
   },
   "file_extension": ".py",
   "mimetype": "text/x-python",
   "name": "python",
   "nbconvert_exporter": "python",
   "pygments_lexer": "ipython3"
  }
 },
 "nbformat": 4,
 "nbformat_minor": 2
}
