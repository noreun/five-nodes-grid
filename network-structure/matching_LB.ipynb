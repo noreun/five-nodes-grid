{
 "cells": [
  {
   "cell_type": "code",
   "execution_count": null,
   "metadata": {},
   "outputs": [],
   "source": [
    "load_ext autoreload"
   ]
  },
  {
   "cell_type": "code",
   "execution_count": null,
   "metadata": {},
   "outputs": [],
   "source": [
    "autoreload 2"
   ]
  },
  {
   "cell_type": "code",
   "execution_count": null,
   "metadata": {},
   "outputs": [],
   "source": [
    "import numpy as np\n",
    "import pyphi\n",
    "import random\n",
    "import makegridslibrary as me\n",
    "import matplotlib\n",
    "import matplotlib.pyplot as plt\n",
    "import itertools"
   ]
  },
  {
   "cell_type": "code",
   "execution_count": null,
   "metadata": {},
   "outputs": [],
   "source": [
    "C_BGR_N5=me.make_cmgrid_withbackground(5,3)\n",
    "C_BGR_N5"
   ]
  },
  {
   "cell_type": "code",
   "execution_count": null,
   "metadata": {},
   "outputs": [],
   "source": [
    "R_BGR_N5=me.make_random_withbackground(5,3)\n",
    "R_BGR_N5"
   ]
  },
  {
   "cell_type": "code",
   "execution_count": null,
   "metadata": {},
   "outputs": [],
   "source": [
    "# Make TPMs\n",
    "\n",
    "# np.get_printoptions()\n",
    "# np.set_printoptions(edgeitems=3)\n",
    "\n",
    "# T_C_BGR_N9=me.make_tpm_withbackground(9,C_BGR_N9,3)\n",
    "\n",
    "np.set_printoptions(edgeitems=16)\n",
    "T_C_BGR_N5=me.make_tpm_withbackground(5,C_BGR_N5,2,.2,[])\n",
    "T_C_BGR_N5_G=me.make_tpm_withbackground_gibs(5, C_BGR_N5, .2,[])\n",
    "\n",
    "# fig = plt.figure()\n",
    "\n",
    "T_R_BGR_N5=me.make_tpm_withbackground(5,R_BGR_N5,2)\n",
    "\n",
    "# ax = fig.add_subplot(1,1,1)\n",
    "# ax.set_aspect('equal')\n",
    "# plt.imshow(T_BGR_N4, interpolation='nearest', cmap=plt.cm.PuBu)\n",
    "# plt.colorbar()\n",
    "\n",
    "# plt.show()"
   ]
  },
  {
   "cell_type": "code",
   "execution_count": null,
   "metadata": {},
   "outputs": [],
   "source": [
    "T_C_BGR_N5_G"
   ]
  },
  {
   "cell_type": "code",
   "execution_count": null,
   "metadata": {},
   "outputs": [],
   "source": [
    "# fix grid state or inputs and vary the rest : INTIALIZE\n",
    "\n",
    "# Average distance for random initial states\n",
    "\n",
    "# cm = C_BGR_N4\n",
    "# N = 4\n",
    "# thresh = 2\n",
    "# initial_state = np.array([1,0,1,0,\n",
    "#                          1,1,0,0])\n",
    "\n",
    "# cm = C_BGR_N9\n",
    "# N = int(cm.shape[0]/2)\n",
    "# thresh = 3\n",
    "# # intial state that lead to matching (very similar) : 1,1,1,0,0,0,0,1,1\n",
    "# initial_state = np.array([1,1,1,0,0,0,0,1,1,\n",
    "#                           1,1,0,0,0,0,1,1,1])\n",
    "\n",
    "# cm = R_BGR_N5\n",
    "cm = C_BGR_N5\n",
    "N = int(cm.shape[0]/2)\n",
    "thresh = 2\n",
    "\n",
    "initial_state = np.array([0,0,0,1,0,\n",
    "                          0,0,0,0,0])\n",
    "\n",
    "iterations = 10\n",
    "all_states = list()\n",
    "\n",
    "nsim = 2**N\n",
    "# nsim = 10000\n",
    "\n",
    "# find_final_states = False\n",
    "find_final_states = True\n",
    "\n",
    "if find_final_states:\n",
    "    \n",
    "    permute = 1 # fixed background; vary initial\n",
    "    final_states = list()\n",
    "    \n",
    "else:\n",
    "\n",
    "    permute = 1 # fixed background; vary initial\n",
    "#     permute = 2 # fixed initial; vary background\n",
    "    \n",
    "    distances = np.zeros(nsim)\n",
    "    if permute == 1:\n",
    "        good_grid_states = list()\n",
    "    elif permute == 2:\n",
    "        good_input_states = list()\n",
    "\n",
    "# all_states = list()\n",
    "# for isim in range(nsim):\n",
    "    \n",
    "#     this_state = np.random.randint(0, 2, N)\n",
    "\n",
    "#     this_state = initial_state[0:N]\n",
    "#     np.random.shuffle(this_state)\n",
    "\n",
    "#     all_states.append(this_state)"
   ]
  },
  {
   "cell_type": "code",
   "execution_count": null,
   "metadata": {},
   "outputs": [],
   "source": [
    "# fix grid state or inputs and vary the rest : RUN\n",
    "\n",
    "all_states = itertools.product((0, 1), repeat=N)\n",
    "for (isim, this_state) in enumerate(all_states):\n",
    "\n",
    "    state = initial_state\n",
    "\n",
    "    if permute == 1:\n",
    "        state[0:N] = this_state\n",
    "    elif permute == 2:\n",
    "        state[N:] = this_state\n",
    "    else:\n",
    "        raise ValueError(\"Either permute initial state or background conditions\")\n",
    "        \n",
    "    if nsim > 10:\n",
    "        do_plot = False\n",
    "    else:\n",
    "        do_plot = True\n",
    "\n",
    "    if find_final_states:\n",
    "        final_state = me.running_behavior_conv(cm,N,iterations,state,thresh, do_plot=do_plot, do_print=False, return_final_state=True)\n",
    "#         print(final_state)\n",
    "        final_states.append(tuple(final_state))\n",
    "    else:\n",
    "        distances[isim] = me.running_behavior(cm,N,iterations,state,thresh, do_plot=do_plot, do_print=False)\n",
    "        if distances[isim] == 0:\n",
    "            if permute == 1:\n",
    "                good_grid_states.append(this_state)\n",
    "            elif permute == 2:\n",
    "                good_input_states.append(this_state)\n",
    "\n",
    "if find_final_states:\n",
    "    final_states = {row for row in final_states if sum(row) > 0 and sum(row) < N}"
   ]
  },
  {
   "cell_type": "code",
   "execution_count": null,
   "metadata": {},
   "outputs": [],
   "source": [
    "final_states"
   ]
  },
  {
   "cell_type": "code",
   "execution_count": null,
   "metadata": {},
   "outputs": [],
   "source": [
    "# fix grid state or inputs and vary the rest : SUMMARY\n",
    "\n",
    "# print(\"Mean distance: %f (chance %f)\" % (np.mean(1*(distances==0)), 1/(sum(initial_state[0:N])*2**(N-sum(initial_state[0:N])))))\n",
    "\n",
    "# there must be a better way of doing that, but it does the trick\n",
    "\n",
    "# from itertools import permutations\n",
    "# perms = list(set(permutations(initial_state[N:])))\n",
    "\n",
    "perms = list(all_states)\n",
    "\n",
    "chance_level = 1./isim\n",
    "\n",
    "print(\"Mean distance: %f (chance %f)\" % (np.mean(1*(distances==0)), chance_level))\n",
    "\n",
    "if find_final_states:\n",
    "    print(\"N unique final states %d (out of %d)\" % (len(set(final_states)), nsim))\n",
    "    print(final_states)\n",
    "else:\n",
    "    if permute == 1:\n",
    "        print(\"N good grid states %d (out of %d)\" % (len(good_grid_states), nsim))\n",
    "    elif permute == 2:\n",
    "        print(\"N good input states %d (out of %d)\" % (len(good_input_states), nsim))"
   ]
  },
  {
   "cell_type": "code",
   "execution_count": null,
   "metadata": {},
   "outputs": [],
   "source": [
    "good_grid_states"
   ]
  },
  {
   "cell_type": "code",
   "execution_count": null,
   "metadata": {},
   "outputs": [],
   "source": [
    "[row for row in good_input_states if sum(row) > 0 and sum(row) < N]"
   ]
  },
  {
   "cell_type": "code",
   "execution_count": null,
   "metadata": {},
   "outputs": [],
   "source": [
    "final_state[-1] = -1\n",
    "final_state"
   ]
  },
  {
   "cell_type": "code",
   "execution_count": null,
   "metadata": {},
   "outputs": [],
   "source": [
    "print(final_state)\n",
    "from itertools import permutations\n",
    "perms = list(set(permutations(final_state)))\n",
    "perms"
   ]
  },
  {
   "cell_type": "code",
   "execution_count": null,
   "metadata": {},
   "outputs": [],
   "source": [
    "good_grid_states"
   ]
  },
  {
   "cell_type": "code",
   "execution_count": null,
   "metadata": {},
   "outputs": [],
   "source": [
    "good_input_states"
   ]
  },
  {
   "cell_type": "code",
   "execution_count": null,
   "metadata": {},
   "outputs": [],
   "source": [
    "#test, for convervence using actual thresh\n",
    "M=7\n",
    "l=0.5\n",
    "N=9\n",
    "cm=C_BGR_N4\n",
    "it=10\n",
    "for i in range(M):\n",
    "    nrfiring=int(l*N)\n",
    "    nrfiringbackground=nrfiring\n",
    "    [state,background]=me.pick_random_state(N,nrfiring,nrfiringbackground)\n",
    "    me.running_behavior(cm,N,it,state,0, do_plot=False)"
   ]
  },
  {
   "cell_type": "markdown",
   "metadata": {},
   "source": [
    "What we see is: \n",
    "- Some structured background conditions cause the GRID to match, but on with specific initial states (not very different from the background)\n",
    "- No structured backgound caused the RANDOM to match, but vary few random background did it.\n",
    "\n",
    "- Next we need to find the concepts in each one of the four conditions"
   ]
  },
  {
   "cell_type": "code",
   "execution_count": null,
   "metadata": {},
   "outputs": [],
   "source": [
    "# Starting Pyphi\n",
    "\n",
    "network = pyphi.Network(T_C_BGR_N5, connectivity_matrix=C_BGR_N5)"
   ]
  },
  {
   "cell_type": "code",
   "execution_count": null,
   "metadata": {},
   "outputs": [],
   "source": [
    "grid_state = good_grid_states[0]\n",
    "print(grid_state)\n",
    "\n",
    "input_state = good_input_states[3]\n",
    "print(input_state)\n",
    "\n",
    "state = grid_state + input_state\n",
    "state"
   ]
  },
  {
   "cell_type": "code",
   "execution_count": null,
   "metadata": {},
   "outputs": [],
   "source": [
    "state = [0,0,0,0,0,0,0,0,0,0]\n",
    "thegrid = pyphi.Subsystem(network, state, range(N))"
   ]
  },
  {
   "cell_type": "code",
   "execution_count": null,
   "metadata": {},
   "outputs": [],
   "source": [
    "mip = pyphi.compute.big_mip(thegrid)"
   ]
  },
  {
   "cell_type": "code",
   "execution_count": null,
   "metadata": {},
   "outputs": [],
   "source": [
    "print(\"{} ({} concepts)\".format(mip.phi, len(mip.unpartitioned_constellation)))\n",
    "print(mip.subsystem)\n",
    "print(mip.cut)\n"
   ]
  },
  {
   "cell_type": "code",
   "execution_count": null,
   "metadata": {},
   "outputs": [],
   "source": [
    "print(cm)\n",
    "\n",
    "state1 = np.array([0, 0, 0, 0, 0, 0, 0, 0, 1, 1])\n",
    "print(state1)\n",
    "thegrid = pyphi.Subsystem(network, state1, range(N))\n",
    "mip1 = pyphi.compute.big_mip(thegrid)\n",
    "\n",
    "state2 = np.array([0, 0, 0, 0, 0, 0, 0, 1, 0, 1])\n",
    "print(state2)\n",
    "thegrid = pyphi.Subsystem(network, state2, range(N))\n",
    "mip2 = pyphi.compute.big_mip(thegrid)"
   ]
  },
  {
   "cell_type": "code",
   "execution_count": null,
   "metadata": {},
   "outputs": [],
   "source": [
    "mip1.partitioned_constellation"
   ]
  },
  {
   "cell_type": "code",
   "execution_count": null,
   "metadata": {},
   "outputs": [],
   "source": [
    "print(mip1.cut)\n",
    "\n",
    "for x in sorted(mip1.unpartitioned_constellation):\n",
    "#     for y in x.mechanism:\n",
    "#         print(y, '_', end='')\n",
    "    print(x.mechanism, x.phi)\n",
    "\n",
    "print('')\n",
    "\n",
    "for x in sorted(mip1.partitioned_constellation):\n",
    "#     for y in x.mechanism:\n",
    "#         print(y, '_', end='')\n",
    "    print(x.mechanism, x.phi)\n"
   ]
  },
  {
   "cell_type": "code",
   "execution_count": null,
   "metadata": {},
   "outputs": [],
   "source": [
    "len(mip1.unpartitioned_constellation)"
   ]
  },
  {
   "cell_type": "code",
   "execution_count": null,
   "metadata": {},
   "outputs": [],
   "source": [
    "bar_inputs = [ (0, 0, 0, 1, 1),\n",
    " (0, 0, 1, 1, 0),\n",
    " (0, 1, 1, 0, 0),\n",
    " (1, 0, 0, 0, 1)]\n",
    "bar_inputs"
   ]
  },
  {
   "cell_type": "code",
   "execution_count": null,
   "metadata": {},
   "outputs": [],
   "source": [
    "shuffled_inputs = [ (0, 0, 1, 0, 1),\n",
    " (1, 0, 0, 1, 0),\n",
    " (0, 1, 0, 0, 1),\n",
    " (1, 0, 1, 0, 0)]\n",
    "shuffled_inputs"
   ]
  },
  {
   "cell_type": "code",
   "execution_count": null,
   "metadata": {},
   "outputs": [],
   "source": [
    "do_plot = False\n",
    "\n",
    "# try all possible states as initial state for the bar and the shuffled\n",
    "\n",
    "bar_states = dict()\n",
    "shuffled_states = dict()\n",
    "\n",
    "for bar_input in bar_inputs:\n",
    "    \n",
    "    this_bar_states = list()\n",
    "    all_states = itertools.product((0, 1), repeat=N)\n",
    "    for this_state in all_states:\n",
    "    \n",
    "        state = this_state + bar_input\n",
    "        converged_state = me.running_behavior_conv(cm,N,10,state,thresh,do_plot=do_plot, do_print=False, return_final_state=True)\n",
    "        this_bar_states.append(tuple(converged_state))\n",
    "    \n",
    "    bar_states[bar_input] = {x for x in this_bar_states}\n",
    "\n",
    "for shuffled_input in shuffled_inputs:\n",
    "    \n",
    "    this_shuffled_states = list()\n",
    "    all_states = itertools.product((0, 1), repeat=N)\n",
    "    for this_state in all_states:\n",
    "    \n",
    "        state = this_state + shuffled_input\n",
    "        converged_state = me.running_behavior_conv(cm,N,10,state,thresh,do_plot=do_plot, do_print=False, return_final_state=True)\n",
    "        this_shuffled_states.append(tuple(converged_state))\n",
    "    \n",
    "    shuffled_states[shuffled_input] = {x for x in this_shuffled_states}"
   ]
  },
  {
   "cell_type": "code",
   "execution_count": null,
   "metadata": {},
   "outputs": [],
   "source": [
    "bar_states"
   ]
  },
  {
   "cell_type": "code",
   "execution_count": null,
   "metadata": {},
   "outputs": [],
   "source": [
    "shuffled_states"
   ]
  },
  {
   "cell_type": "code",
   "execution_count": null,
   "metadata": {},
   "outputs": [],
   "source": [
    "# do_plot = True\n",
    "do_plot = False\n",
    "\n",
    "cm = C_BGR_N5\n",
    "\n",
    "results_bar = dict()\n",
    "results_shuffled = dict()\n",
    "\n",
    "for (ibar, bar_input) in enumerate(bar_states):\n",
    "    \n",
    "    print ('Bar {} out of {}'.format(ibar+1, len(bar_states)))\n",
    "\n",
    "    all_states = itertools.product((0, 1), repeat=N)\n",
    "    for (istate, this_state) in enumerate(all_states):\n",
    "    \n",
    "        bar_state = this_state + bar_input\n",
    "        \n",
    "        print ('\\tState {} ({} out of {}) : '.format(bar_state, istate+1, 2**N), end='')\n",
    "\n",
    "        try:\n",
    "            thegrid = pyphi.Subsystem(network, bar_state, range(N))\n",
    "            mip_bar = pyphi.compute.big_mip(thegrid)\n",
    "            concepts_bar = [x.phi for x in mip_bar.unpartitioned_constellation]\n",
    "            results_bar[bar_state] = (mip_bar.phi, concepts_bar)\n",
    "            print ('{:1.5f} (Phi {:1.5f} * not weighted {:1.5f} ({} concepts))'.format(mip_bar.phi * sum(concepts_bar), \n",
    "                                                                       mip_bar.phi, sum(concepts_bar), \n",
    "                                                                        len(concepts_bar) ))\n",
    "        except pyphi.exceptions.StateUnreachableError:\n",
    "            print(' Invalid.')\n",
    "    \n",
    "for (ishuffled, shuffled_input) in enumerate(shuffled_states):\n",
    "    \n",
    "    print ('Shufled {} out of {}'.format(ishuffled+1, len(shuffled_states)))\n",
    "\n",
    "    all_states = itertools.product((0, 1), repeat=N)\n",
    "    for (istate, this_state) in enumerate(all_states):\n",
    "    \n",
    "        shuffled_state = this_state + shuffled_input\n",
    "        \n",
    "        print ('\\tState {} ({} out of {}) : '.format(shuffled_state, istate+1, 2**N), end='')\n",
    "\n",
    "        try:\n",
    "            thegrid = pyphi.Subsystem(network, shuffled_state, range(N))\n",
    "            mip_shuffled = pyphi.compute.big_mip(thegrid)\n",
    "            concepts_shuffled = [x.phi for x in mip_shuffled.unpartitioned_constellation]\n",
    "            results_shuffled[shuffled_state] = (mip_shuffled.phi, concepts_shuffled)\n",
    "            print ('{:1.5f} (Phi {:1.5f} * not weighted {:1.5f} ({} concepts))'.format(mip_shuffled.phi * sum(concepts_shuffled), \n",
    "                                                                       mip_shuffled.phi, sum(concepts_shuffled), \n",
    "                                                                        len(concepts_shuffled) ))\n",
    "        except pyphi.exceptions.StateUnreachableError:\n",
    "            print(' Invalid.')"
   ]
  },
  {
   "cell_type": "code",
   "execution_count": null,
   "metadata": {},
   "outputs": [],
   "source": [
    "matching_bar = np.zeros(len(results_bar))\n",
    "for (ibar, bar_result) in enumerate(results_bar):\n",
    "    \n",
    "    matching_bar[ibar] = np.mean(np.array(results_bar[bar_result][1])*results_bar[bar_result][0])\n",
    "#     matching_bar[ibar] = np.sum(np.array(results_bar[bar_result][1])*results_bar[bar_result][0])\n",
    "    \n",
    "matching_shuffled = np.zeros(len(results_shuffled))\n",
    "for (ishuffled, shuffled_result) in enumerate(results_shuffled):\n",
    "\n",
    "    matching_shuffled[ishuffled] = np.mean(np.array(results_shuffled[shuffled_result][1])*results_shuffled[shuffled_result][0])\n",
    "#     matching_shuffled[ishuffled] = np.sum(np.array(results_shuffled[shuffled_result][1])*results_shuffled[shuffled_result][0])\n",
    "\n",
    "print(matching_bar) \n",
    "print(matching_shuffled) \n",
    "# print('Matching : %2.5f' % (np.mean(matching_bar) - np.mean(matching_shuffled)))\n",
    "print('Matching : %2.2f' % (np.sum(matching_bar) - np.sum(matching_shuffled)))\n",
    "\n",
    "matching_bar = np.zeros(len(results_bar))\n",
    "for (ibar, bar_result) in enumerate(results_bar):\n",
    "    \n",
    "    matching_bar[ibar] = np.mean(np.array(results_bar[bar_result][1]))\n",
    "#     matching_bar[ibar] = np.sum(np.array(results_bar[bar_result][1]))\n",
    "    \n",
    "matching_shuffled = np.zeros(len(results_shuffled))\n",
    "for (ishuffled, shuffled_result) in enumerate(results_shuffled):\n",
    "\n",
    "    matching_shuffled[ishuffled] = np.mean(np.array(results_shuffled[shuffled_result][1]))\n",
    "#     matching_shuffled[ishuffled] = np.sum(np.array(results_shuffled[shuffled_result][1]))\n",
    "\n",
    "print(matching_bar) \n",
    "print(matching_shuffled) \n",
    "\n",
    "# print('Matching (not wieghted): %2.5f' % (np.mean(matching_bar) - np.mean(matching_shuffled)))    \n",
    "print('Matching (not wieghted): %2.2f' % (np.sum(matching_bar) - np.sum(matching_shuffled)))"
   ]
  },
  {
   "cell_type": "code",
   "execution_count": null,
   "metadata": {},
   "outputs": [],
   "source": [
    "constellation = mip_shuffled.unpartitioned_constellation\n",
    "[concept.mechanism for concept in constellation]"
   ]
  },
  {
   "cell_type": "code",
   "execution_count": null,
   "metadata": {},
   "outputs": [],
   "source": [
    "[concept.phi for concept in constellation]"
   ]
  },
  {
   "cell_type": "code",
   "execution_count": null,
   "metadata": {},
   "outputs": [],
   "source": [
    "testgrid = pyphi.Subsystem(network, [1,0,0,0,0,0,0,0,0,0], range(N))\n",
    "mip_test = pyphi.compute.big_mip(testgrid)\n",
    "constellation = mip_test.unpartitioned_constellation\n",
    "[concept.mechanism for concept in constellation]"
   ]
  },
  {
   "cell_type": "code",
   "execution_count": null,
   "metadata": {},
   "outputs": [],
   "source": [
    "concepts = [concept.mechanism for concept in constellation]"
   ]
  },
  {
   "cell_type": "code",
   "execution_count": null,
   "metadata": {},
   "outputs": [],
   "source": [
    "constellation[0].time"
   ]
  },
  {
   "cell_type": "code",
   "execution_count": null,
   "metadata": {},
   "outputs": [],
   "source": [
    "constellation"
   ]
  },
  {
   "cell_type": "code",
   "execution_count": null,
   "metadata": {},
   "outputs": [],
   "source": [
    "%connect_info"
   ]
  }
 ],
 "metadata": {
  "anaconda-cloud": {},
  "kernelspec": {
   "display_name": "Python 3",
   "language": "python",
   "name": "python3"
  },
  "language_info": {
   "codemirror_mode": {
    "name": "ipython",
    "version": 3
   },
   "file_extension": ".py",
   "mimetype": "text/x-python",
   "name": "python",
   "nbconvert_exporter": "python",
   "pygments_lexer": "ipython3"
  }
 },
 "nbformat": 4,
 "nbformat_minor": 0
}
