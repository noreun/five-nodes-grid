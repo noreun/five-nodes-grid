{
 "cells": [
  {
   "cell_type": "code",
   "execution_count": null,
   "metadata": {},
   "outputs": [],
   "source": [
    "load_ext autoreload"
   ]
  },
  {
   "cell_type": "code",
   "execution_count": null,
   "metadata": {},
   "outputs": [],
   "source": [
    "autoreload 2"
   ]
  },
  {
   "cell_type": "code",
   "execution_count": null,
   "metadata": {},
   "outputs": [],
   "source": [
    "import makegridslibrary as me\n",
    "import scipy.io as scio\n",
    "import numpy as np\n",
    "import pyphi\n",
    "import pickle\n",
    "from matplotlib import pylab as plt\n",
    "from matplotlib import colors\n",
    "import solarized\n",
    "sol_cmap = solarized.cmap()\n",
    "\n",
    "pyphi.config.PARALLEL_CONCEPT_EVALUATION = True\n"
   ]
  },
  {
   "cell_type": "code",
   "execution_count": null,
   "metadata": {},
   "outputs": [],
   "source": [
    "\n",
    "data_folder = '/data/nsdm/pyphi/'\n",
    "\n",
    "with open(data_folder + 'C_2d_9_matrix.mat', 'rb') as f:\n",
    "    CR_mat = scio.loadmat(f)\n",
    "C_BGR_N9_2D = CR_mat['CG']\n",
    "T_G_BGR_N9_2D = me.make_tpm_gibbs(9, C_BGR_N9_2D, 3, [], 4)\n",
    "\n",
    "network = pyphi.Network(T_G_BGR_N9_2D, connectivity_matrix=C_BGR_N9_2D)\n",
    "the_grid = pyphi.Subsystem(network, (0,0,0,0,0,0,0,0,0), range(9))\n",
    "\n",
    "from pyphi.compute.concept import constellation\n",
    "\n",
    "# mip_the_grid = pyphi.compute.big_mip(the_grid)\n",
    "\n",
    "with open(data_folder + 'ninenodes_2d_noinput_grid_CONSTELATION_ENTROPY_WEDGE_T_4_D_4.pickle', 'rb') as f:\n",
    "    uc = pickle.load(f)\n",
    "\n"
   ]
  },
  {
   "cell_type": "code",
   "execution_count": null,
   "metadata": {},
   "outputs": [],
   "source": [
    "uc[5]"
   ]
  },
  {
   "cell_type": "code",
   "execution_count": null,
   "metadata": {},
   "outputs": [],
   "source": [
    "u_c_r = np.array([(y, yms, yps) \n",
    "                  for c in uc \n",
    "                  for (y, yms, yps) in zip(c.cause_repertoire.flatten(), \n",
    "                                           [len(c.mechanism)] * 2**len(c.cause.purview), \n",
    "                                           [len(c.cause.purview)] * 2**len(c.cause.purview))])\n",
    "\n",
    "p_c_r = np.array([(y, yms, yps) \n",
    "                  for c in uc \n",
    "                  for (y, yms, yps) in zip(c.cause.partitioned_repertoire.flatten(), \n",
    "                                           [len(c.mechanism)] * 2**len(c.cause.purview), \n",
    "                                           [len(c.cause.purview)] * 2**len(c.cause.purview))])\n",
    "\n",
    "\n",
    "fig = plt.figure(figsize = (25,15))\n",
    "[y,x,z] = (-np.log(u_c_r[:,0]), u_c_r[:,1], u_c_r[:,2])\n",
    "x_jitter = (np.random.rand(len(x))-.5)/1.2\n",
    "plt.scatter(x + x_jitter, y, c=z, cmap=sol_cmap, s=10)\n",
    "plt.colorbar()\n",
    "plt.title('Unpartitioned Information')\n",
    "plt.show()\n",
    "\n",
    "fig = plt.figure(figsize = (25,15))\n",
    "[y,x,z] = (-np.log(p_c_r[:,0]), p_c_r[:,1], p_c_r[:,2])\n",
    "x_jitter = (np.random.rand(len(x))-.5)/1.2\n",
    "plt.scatter(x + x_jitter, y, c=z, cmap=sol_cmap, s=10)\n",
    "plt.colorbar()\n",
    "plt.title('Partitioned Information')\n",
    "plt.show()\n"
   ]
  },
  {
   "cell_type": "code",
   "execution_count": null,
   "metadata": {},
   "outputs": [],
   "source": [
    "p_c_phi = np.array([(c.phi, len(c.mechanism), len(c.cause.purview)) for c in uc])                 \n",
    "\n",
    "[y,x,z] = (p_c_phi[:,0], p_c_phi[:,1], p_c_phi[:,2])\n",
    "\n",
    "fig = plt.figure(figsize = (25,15))\n",
    "\n",
    "x_jitter = (np.random.rand(len(x))-.5)/1.2\n",
    "plt.scatter(x + x_jitter, y, c=z, cmap=sol_cmap, s=10)\n",
    "plt.colorbar()\n",
    "plt.title('Phi per mechanism order and perview size')\n",
    "plt.show()\n",
    "\n"
   ]
  },
  {
   "cell_type": "code",
   "execution_count": null,
   "metadata": {},
   "outputs": [],
   "source": []
  },
  {
   "cell_type": "code",
   "execution_count": null,
   "metadata": {},
   "outputs": [],
   "source": [
    "sol_cmap = solarized.gradient(64)\n",
    "sol_cmap = np.c_[cmap,np.ones(len(cmap))]\n",
    "sol_cmap = colors.LinearSegmentedColormap.from_list('my_colormap', sol_cmap)\n",
    "\n"
   ]
  },
  {
   "cell_type": "code",
   "execution_count": null,
   "metadata": {},
   "outputs": [],
   "source": [
    "sol_cmap"
   ]
  },
  {
   "cell_type": "code",
   "execution_count": null,
   "metadata": {},
   "outputs": [],
   "source": []
  }
 ],
 "metadata": {
  "kernelspec": {
   "display_name": "Python 3",
   "language": "python",
   "name": "python3"
  },
  "language_info": {
   "codemirror_mode": {
    "name": "ipython",
    "version": 3
   },
   "file_extension": ".py",
   "mimetype": "text/x-python",
   "name": "python",
   "nbconvert_exporter": "python",
   "pygments_lexer": "ipython3"
  }
 },
 "nbformat": 4,
 "nbformat_minor": 2
}
